{
 "cells": [
  {
   "cell_type": "code",
   "execution_count": 66,
   "metadata": {},
   "outputs": [],
   "source": [
    "sub_path = '/tmp/working/IEEE_Fraud_Detection/data/output/'\n",
    "\n",
    "import numpy as np\n",
    "import pandas as pd \n",
    "import datetime\n",
    "\n",
    "from scipy.stats import describe\n",
    "import seaborn as sns\n",
    "import matplotlib.pyplot as plt\n",
    "%matplotlib inline"
   ]
  },
  {
   "cell_type": "code",
   "execution_count": 67,
   "metadata": {},
   "outputs": [],
   "source": [
    "all_files = []\n",
    "\n",
    "all_files.append(sub_path + 'sub_201908270710_lgb_dart_0.9506.csv') # lgbm dart\n",
    "all_files.append(sub_path + 'sub_201908262358_lgb_gbdt_0.9499.csv') # lgbm standard\n",
    "all_files.append(sub_path + 'catoost_submission_2_0.9406.csv')             # catboost\n",
    "all_files.append(sub_path + 'sub_201909301902_lgb_0.9402.csv') # lgbm small num_leaves\n",
    "all_files.append(sub_path + 'sub_201909262359_lgb_0.9429.csv') # lgbm large num_leave\n",
    "all_files.append(sub_path + 'stack_gmean_0.9527.csv')\n",
    "all_files.append(sub_path + 'sub_201909072232_xgb_0.9454.csv') # xgb standard\n",
    "# all_files.append(sub_path + 'nn_submission_0.9200.csv')  # NN \n",
    "# all_files.append(sub_path + 'sub_201909110005_cat_0.9237.csv') # catboost at local"
   ]
  },
  {
   "cell_type": "code",
   "execution_count": 68,
   "metadata": {},
   "outputs": [],
   "source": [
    "scores = np.zeros(len(all_files))\n",
    "for i in range(len(all_files)):\n",
    "    scores[i] = float('.'+all_files[i].split(\".\")[1])"
   ]
  },
  {
   "cell_type": "code",
   "execution_count": 69,
   "metadata": {},
   "outputs": [
    {
     "name": "stdout",
     "output_type": "stream",
     "text": [
      "0 0.9527 /tmp/working/IEEE_Fraud_Detection/data/output/stack_gmean_0.9527.csv\n",
      "1 0.9506 /tmp/working/IEEE_Fraud_Detection/data/output/sub_201908270710_lgb_dart_0.9506.csv\n",
      "2 0.9499 /tmp/working/IEEE_Fraud_Detection/data/output/sub_201908262358_lgb_gbdt_0.9499.csv\n",
      "3 0.9454 /tmp/working/IEEE_Fraud_Detection/data/output/sub_201909072232_xgb_0.9454.csv\n",
      "4 0.9429 /tmp/working/IEEE_Fraud_Detection/data/output/sub_201909262359_lgb_0.9429.csv\n",
      "5 0.9406 /tmp/working/IEEE_Fraud_Detection/data/output/catoost_submission_2_0.9406.csv\n",
      "6 0.9402 /tmp/working/IEEE_Fraud_Detection/data/output/sub_201909301902_lgb_0.9402.csv\n"
     ]
    }
   ],
   "source": [
    "top = scores.argsort()[::-1]\n",
    "for i, f in enumerate(top):\n",
    "    print(i,scores[f],all_files[f])"
   ]
  },
  {
   "cell_type": "code",
   "execution_count": 70,
   "metadata": {},
   "outputs": [],
   "source": [
    "outs = [pd.read_csv(all_files[f], index_col=0) for f in top]\n",
    "concat_sub = pd.concat(outs, axis=1)\n",
    "cols = list(map(lambda x: \"m\" + str(x), range(len(concat_sub.columns))))\n",
    "concat_sub.columns = cols"
   ]
  },
  {
   "cell_type": "code",
   "execution_count": 71,
   "metadata": {},
   "outputs": [
    {
     "data": {
      "text/html": [
       "<div>\n",
       "<style scoped>\n",
       "    .dataframe tbody tr th:only-of-type {\n",
       "        vertical-align: middle;\n",
       "    }\n",
       "\n",
       "    .dataframe tbody tr th {\n",
       "        vertical-align: top;\n",
       "    }\n",
       "\n",
       "    .dataframe thead th {\n",
       "        text-align: right;\n",
       "    }\n",
       "</style>\n",
       "<table border=\"1\" class=\"dataframe\">\n",
       "  <thead>\n",
       "    <tr style=\"text-align: right;\">\n",
       "      <th></th>\n",
       "      <th>m0</th>\n",
       "      <th>m1</th>\n",
       "      <th>m2</th>\n",
       "      <th>m3</th>\n",
       "      <th>m4</th>\n",
       "      <th>m5</th>\n",
       "      <th>m6</th>\n",
       "    </tr>\n",
       "  </thead>\n",
       "  <tbody>\n",
       "    <tr>\n",
       "      <th>count</th>\n",
       "      <td>506691.000000</td>\n",
       "      <td>506691.000000</td>\n",
       "      <td>506691.000000</td>\n",
       "      <td>506691.000000</td>\n",
       "      <td>506691.000000</td>\n",
       "      <td>506691.000000</td>\n",
       "      <td>506691.000000</td>\n",
       "    </tr>\n",
       "    <tr>\n",
       "      <th>mean</th>\n",
       "      <td>0.025779</td>\n",
       "      <td>0.021839</td>\n",
       "      <td>0.022645</td>\n",
       "      <td>0.027223</td>\n",
       "      <td>0.018034</td>\n",
       "      <td>0.027818</td>\n",
       "      <td>0.025198</td>\n",
       "    </tr>\n",
       "    <tr>\n",
       "      <th>std</th>\n",
       "      <td>0.113920</td>\n",
       "      <td>0.114209</td>\n",
       "      <td>0.114238</td>\n",
       "      <td>0.118606</td>\n",
       "      <td>0.104769</td>\n",
       "      <td>0.120339</td>\n",
       "      <td>0.110090</td>\n",
       "    </tr>\n",
       "    <tr>\n",
       "      <th>min</th>\n",
       "      <td>0.000114</td>\n",
       "      <td>0.000050</td>\n",
       "      <td>0.000093</td>\n",
       "      <td>0.000020</td>\n",
       "      <td>0.000046</td>\n",
       "      <td>0.000014</td>\n",
       "      <td>0.000054</td>\n",
       "    </tr>\n",
       "    <tr>\n",
       "      <th>25%</th>\n",
       "      <td>0.001432</td>\n",
       "      <td>0.000506</td>\n",
       "      <td>0.000662</td>\n",
       "      <td>0.001064</td>\n",
       "      <td>0.000498</td>\n",
       "      <td>0.001013</td>\n",
       "      <td>0.001406</td>\n",
       "    </tr>\n",
       "    <tr>\n",
       "      <th>50%</th>\n",
       "      <td>0.003219</td>\n",
       "      <td>0.001234</td>\n",
       "      <td>0.001539</td>\n",
       "      <td>0.003105</td>\n",
       "      <td>0.001118</td>\n",
       "      <td>0.002911</td>\n",
       "      <td>0.003351</td>\n",
       "    </tr>\n",
       "    <tr>\n",
       "      <th>75%</th>\n",
       "      <td>0.008626</td>\n",
       "      <td>0.003926</td>\n",
       "      <td>0.004647</td>\n",
       "      <td>0.009493</td>\n",
       "      <td>0.002984</td>\n",
       "      <td>0.008729</td>\n",
       "      <td>0.009047</td>\n",
       "    </tr>\n",
       "    <tr>\n",
       "      <th>max</th>\n",
       "      <td>1.002244</td>\n",
       "      <td>0.999652</td>\n",
       "      <td>0.998411</td>\n",
       "      <td>0.999826</td>\n",
       "      <td>0.997982</td>\n",
       "      <td>0.999933</td>\n",
       "      <td>0.998627</td>\n",
       "    </tr>\n",
       "  </tbody>\n",
       "</table>\n",
       "</div>"
      ],
      "text/plain": [
       "                  m0             m1  ...             m5             m6\n",
       "count  506691.000000  506691.000000  ...  506691.000000  506691.000000\n",
       "mean        0.025779       0.021839  ...       0.027818       0.025198\n",
       "std         0.113920       0.114209  ...       0.120339       0.110090\n",
       "min         0.000114       0.000050  ...       0.000014       0.000054\n",
       "25%         0.001432       0.000506  ...       0.001013       0.001406\n",
       "50%         0.003219       0.001234  ...       0.002911       0.003351\n",
       "75%         0.008626       0.003926  ...       0.008729       0.009047\n",
       "max         1.002244       0.999652  ...       0.999933       0.998627\n",
       "\n",
       "[8 rows x 7 columns]"
      ]
     },
     "execution_count": 71,
     "metadata": {},
     "output_type": "execute_result"
    }
   ],
   "source": [
    "concat_sub.describe()"
   ]
  },
  {
   "cell_type": "code",
   "execution_count": 72,
   "metadata": {},
   "outputs": [
    {
     "data": {
      "image/png": "[encoded data removed]",
      "text/plain": [
       "<Figure size 648x648 with 2 Axes>"
      ]
     },
     "metadata": {
      "needs_background": "light"
     },
     "output_type": "display_data"
    }
   ],
   "source": [
    "# check correlation\n",
    "corr = concat_sub.corr()\n",
    "mask = np.zeros_like(corr, dtype=np.bool)\n",
    "mask[np.triu_indices_from(mask)] = True\n",
    "\n",
    "# Set up the matplotlib figure\n",
    "f, ax = plt.subplots(figsize=(len(cols)+2, len(cols)+2))\n",
    "\n",
    "# Draw the heatmap with the mask and correct aspect ratio\n",
    "_ = sns.heatmap(corr,mask=mask,cmap='prism',center=0, linewidths=1,\n",
    "                annot=True,fmt='.4f', cbar_kws={\"shrink\":.5})\n"
   ]
  },
  {
   "cell_type": "code",
   "execution_count": 73,
   "metadata": {},
   "outputs": [],
   "source": [
    "# # rank averaging\n",
    "# for i in range(concat_sub.shape[1]):\n",
    "#     concat_sub['m' + str(i) + 'rank'] = concat_sub['m' + str(i)].rank()\n",
    "    \n",
    "# for i in range(int(concat_sub.shape[1] / 2)):\n",
    "#     concat_sub.drop('m' + str(i), axis=1, inplace=True)\n",
    "    \n",
    "# concat_sub = concat_sub / concat_sub.shape[0]"
   ]
  },
  {
   "cell_type": "code",
   "execution_count": 74,
   "metadata": {},
   "outputs": [
    {
     "data": {
      "text/html": [
       "<div>\n",
       "<style scoped>\n",
       "    .dataframe tbody tr th:only-of-type {\n",
       "        vertical-align: middle;\n",
       "    }\n",
       "\n",
       "    .dataframe tbody tr th {\n",
       "        vertical-align: top;\n",
       "    }\n",
       "\n",
       "    .dataframe thead th {\n",
       "        text-align: right;\n",
       "    }\n",
       "</style>\n",
       "<table border=\"1\" class=\"dataframe\">\n",
       "  <thead>\n",
       "    <tr style=\"text-align: right;\">\n",
       "      <th></th>\n",
       "      <th>m0</th>\n",
       "      <th>m1</th>\n",
       "      <th>m2</th>\n",
       "      <th>m3</th>\n",
       "      <th>m4</th>\n",
       "      <th>m5</th>\n",
       "      <th>m6</th>\n",
       "      <th>isFraud</th>\n",
       "    </tr>\n",
       "    <tr>\n",
       "      <th>TransactionID</th>\n",
       "      <th></th>\n",
       "      <th></th>\n",
       "      <th></th>\n",
       "      <th></th>\n",
       "      <th></th>\n",
       "      <th></th>\n",
       "      <th></th>\n",
       "      <th></th>\n",
       "    </tr>\n",
       "  </thead>\n",
       "  <tbody>\n",
       "    <tr>\n",
       "      <th>3663549</th>\n",
       "      <td>0.000688</td>\n",
       "      <td>0.000445</td>\n",
       "      <td>0.000456</td>\n",
       "      <td>0.000580</td>\n",
       "      <td>0.000344</td>\n",
       "      <td>0.000169</td>\n",
       "      <td>0.000882</td>\n",
       "      <td>0.003563</td>\n",
       "    </tr>\n",
       "    <tr>\n",
       "      <th>3663550</th>\n",
       "      <td>0.001980</td>\n",
       "      <td>0.000984</td>\n",
       "      <td>0.001115</td>\n",
       "      <td>0.001520</td>\n",
       "      <td>0.000729</td>\n",
       "      <td>0.002175</td>\n",
       "      <td>0.002198</td>\n",
       "      <td>0.010701</td>\n",
       "    </tr>\n",
       "    <tr>\n",
       "      <th>3663551</th>\n",
       "      <td>0.001362</td>\n",
       "      <td>0.000770</td>\n",
       "      <td>0.001008</td>\n",
       "      <td>0.000297</td>\n",
       "      <td>0.000637</td>\n",
       "      <td>0.000651</td>\n",
       "      <td>0.001514</td>\n",
       "      <td>0.006240</td>\n",
       "    </tr>\n",
       "    <tr>\n",
       "      <th>3663552</th>\n",
       "      <td>0.001113</td>\n",
       "      <td>0.000343</td>\n",
       "      <td>0.000418</td>\n",
       "      <td>0.000821</td>\n",
       "      <td>0.000365</td>\n",
       "      <td>0.000374</td>\n",
       "      <td>0.001272</td>\n",
       "      <td>0.004706</td>\n",
       "    </tr>\n",
       "    <tr>\n",
       "      <th>3663553</th>\n",
       "      <td>0.001610</td>\n",
       "      <td>0.000755</td>\n",
       "      <td>0.001208</td>\n",
       "      <td>0.002223</td>\n",
       "      <td>0.000922</td>\n",
       "      <td>0.002469</td>\n",
       "      <td>0.001969</td>\n",
       "      <td>0.011155</td>\n",
       "    </tr>\n",
       "  </tbody>\n",
       "</table>\n",
       "</div>"
      ],
      "text/plain": [
       "                     m0        m1        m2  ...        m5        m6   isFraud\n",
       "TransactionID                                ...                              \n",
       "3663549        0.000688  0.000445  0.000456  ...  0.000169  0.000882  0.003563\n",
       "3663550        0.001980  0.000984  0.001115  ...  0.002175  0.002198  0.010701\n",
       "3663551        0.001362  0.000770  0.001008  ...  0.000651  0.001514  0.006240\n",
       "3663552        0.001113  0.000343  0.000418  ...  0.000374  0.001272  0.004706\n",
       "3663553        0.001610  0.000755  0.001208  ...  0.002469  0.001969  0.011155\n",
       "\n",
       "[5 rows x 8 columns]"
      ]
     },
     "execution_count": 74,
     "metadata": {},
     "output_type": "execute_result"
    }
   ],
   "source": [
    "concat_sub['isFraud'] = concat_sub.sum(axis=1)\n",
    "concat_sub.head()"
   ]
  },
  {
   "cell_type": "code",
   "execution_count": 75,
   "metadata": {},
   "outputs": [],
   "source": [
    "now = datetime.datetime.now()\n",
    "concat_sub[['isFraud']].to_csv(\n",
    "    '/tmp/working/IEEE_Fraud_Detection/data/output/sub_blended_{0:%Y%m%d%H%M}.csv'.format(now),\n",
    ")"
   ]
  },
  {
   "cell_type": "code",
   "execution_count": 38,
   "metadata": {},
   "outputs": [
    {
     "data": {
      "text/plain": [
       "m5    0.932314\n",
       "m4    0.973947\n",
       "m3    0.976223\n",
       "m1    0.976957\n",
       "m2    0.978094\n",
       "dtype: float64"
      ]
     },
     "execution_count": 38,
     "metadata": {},
     "output_type": "execute_result"
    }
   ],
   "source": [
    "mean_corr = corr.mean()\n",
    "mean_corr = mean_corr.sort_values(ascending=True)\n",
    "mean_corr = mean_corr[:5]a\n",
    "mean_corr"
   ]
  },
  {
   "cell_type": "code",
   "execution_count": 39,
   "metadata": {},
   "outputs": [],
   "source": [
    "m_gmean1 = 0\n",
    "for n in mean_corr.index:\n",
    "    m_gmean1 += np.log(concat_sub[n])\n",
    "m_gmean1 = np.exp(m_gmean1/len(mean_corr))"
   ]
  },
  {
   "cell_type": "code",
   "execution_count": 43,
   "metadata": {},
   "outputs": [],
   "source": [
    "rank = np.tril(corr.values,-1)\n",
    "rank[rank<0.94] = 1\n",
    "m = (rank>0).sum() - (rank>0.99).sum()\n",
    "m_gmean2, s = 0, 0\n",
    "for n in range(m):\n",
    "    mx = np.unravel_index(rank.argmin(), rank.shape)\n",
    "    w = (m-n)/m\n",
    "    m_gmean2 += w*(np.log(concat_sub.iloc[:,mx[0]])+np.log(concat_sub.iloc[:,mx[1]]))/2\n",
    "    s += w\n",
    "    rank[mx] = 1\n",
    "m_gmean2 = np.exp(m_gmean2/s)"
   ]
  },
  {
   "cell_type": "code",
   "execution_count": 58,
   "metadata": {},
   "outputs": [
    {
     "data": {
      "text/plain": [
       "array([0, 1, 4, 3, 2])"
      ]
     },
     "execution_count": 58,
     "metadata": {},
     "output_type": "execute_result"
    }
   ],
   "source": [
    "top"
   ]
  },
  {
   "cell_type": "code",
   "execution_count": null,
   "metadata": {},
   "outputs": [],
   "source": []
  },
  {
   "cell_type": "code",
   "execution_count": 44,
   "metadata": {},
   "outputs": [],
   "source": [
    "top_mean = 0\n",
    "s = 0\n",
    "for n in [0,1,2,3,4]:\n",
    "    top_mean += concat_sub.iloc[:,n]*scores[top[n]]\n",
    "    s += scores[top[n]]\n",
    "top_mean /= s\n"
   ]
  },
  {
   "cell_type": "code",
   "execution_count": 56,
   "metadata": {},
   "outputs": [],
   "source": [
    "m_gmean = np.exp(0.5*np.log(m_gmean1)  + 0.5*np.log(top_mean))"
   ]
  },
  {
   "cell_type": "code",
   "execution_count": 57,
   "metadata": {},
   "outputs": [],
   "source": [
    "concat_sub['isFraud'] = m_gmean\n",
    "now = datetime.datetime.now()\n",
    "concat_sub[['isFraud']].to_csv(\n",
    "    '/tmp/working/IEEE_Fraud_Detection/data/output/sub_blended_{0:%Y%m%d%H%M}.csv'.format(now),\n",
    ")"
   ]
  },
  {
   "cell_type": "code",
   "execution_count": 53,
   "metadata": {},
   "outputs": [
    {
     "data": {
      "text/plain": [
       "TransactionID\n",
       "3663549    0.000551\n",
       "3663550    0.001674\n",
       "3663551    0.000898\n",
       "3663552    0.000593\n",
       "3663553    0.001572\n",
       "             ...   \n",
       "4170235    0.004704\n",
       "4170236    0.003025\n",
       "4170237    0.002693\n",
       "4170238    0.002791\n",
       "4170239    0.002238\n",
       "Length: 506691, dtype: float64"
      ]
     },
     "execution_count": 53,
     "metadata": {},
     "output_type": "execute_result"
    }
   ],
   "source": [
    "m_gmean"
   ]
  },
  {
   "cell_type": "code",
   "execution_count": null,
   "metadata": {},
   "outputs": [],
   "source": []
  },
  {
   "cell_type": "code",
   "execution_count": null,
   "metadata": {},
   "outputs": [],
   "source": []
  },
  {
   "cell_type": "code",
   "execution_count": null,
   "metadata": {},
   "outputs": [],
   "source": []
  },
  {
   "cell_type": "code",
   "execution_count": 8,
   "metadata": {},
   "outputs": [],
   "source": [
    "import pandas as pd\n",
    "sub_dict = {}\n",
    "sub_dict['sub1'] = pd.read_csv(sub_path + 'sub_201908270710_lgb_dart_0.9506.csv') # lgbm dart\n",
    "sub_dict['sub2'] = pd.read_csv(sub_path + 'sub_201908262358_lgb_gbdt_0.9499.csv') # lgbm standard\n",
    "sub_dict['sub3'] = pd.read_csv(sub_path + 'catoost_submission_2_0.9406.csv')             # catboost\n",
    "sub_dict['sub4'] = pd.read_csv(sub_path + 'sub_201909061911_lgb_gbdt_0.9460.csv') # lgbm small num_leaves\n",
    "sub_dict['sub5'] = pd.read_csv(sub_path + 'sub_201909071300_lgb_gbdt_0.9466.csv') # lgbm large num_leaves\n",
    "\n",
    "sample = pd.read_csv('/tmp/working/IEEE_Fraud_Detection/data/input/sample_submission.csv')"
   ]
  },
  {
   "cell_type": "code",
   "execution_count": 10,
   "metadata": {},
   "outputs": [
    {
     "data": {
      "text/plain": [
       "(0.9996521433213272,\n",
       " 0.9984111142787484,\n",
       " 0.9999331464134232,\n",
       " 0.999064814024606,\n",
       " 0.997100167485048)"
      ]
     },
     "execution_count": 10,
     "metadata": {},
     "output_type": "execute_result"
    }
   ],
   "source": [
    "sub_dict['sub1']['isFraud'].max(), sub_dict['sub2']['isFraud'].max(), sub_dict['sub3']['isFraud'].max(), sub_dict['sub4']['isFraud'].max(), sub_dict['sub5']['isFraud'].max()"
   ]
  },
  {
   "cell_type": "code",
   "execution_count": 21,
   "metadata": {},
   "outputs": [],
   "source": [
    "outs = [sub['isFraud'] for sub in sub_dict.values()]\n",
    "concat_sub = pd.concat(outs, axis=1)\n",
    "cols = list(map(lambda x: \"m\" + str(x+1), range(len(concat_sub.columns))))\n",
    "concat_sub.columns = cols"
   ]
  },
  {
   "cell_type": "code",
   "execution_count": 22,
   "metadata": {},
   "outputs": [
    {
     "data": {
      "text/html": [
       "<div>\n",
       "<style scoped>\n",
       "    .dataframe tbody tr th:only-of-type {\n",
       "        vertical-align: middle;\n",
       "    }\n",
       "\n",
       "    .dataframe tbody tr th {\n",
       "        vertical-align: top;\n",
       "    }\n",
       "\n",
       "    .dataframe thead th {\n",
       "        text-align: right;\n",
       "    }\n",
       "</style>\n",
       "<table border=\"1\" class=\"dataframe\">\n",
       "  <thead>\n",
       "    <tr style=\"text-align: right;\">\n",
       "      <th></th>\n",
       "      <th>m1</th>\n",
       "      <th>m2</th>\n",
       "      <th>m3</th>\n",
       "      <th>m4</th>\n",
       "      <th>m5</th>\n",
       "    </tr>\n",
       "  </thead>\n",
       "  <tbody>\n",
       "    <tr>\n",
       "      <th>0</th>\n",
       "      <td>0.000445</td>\n",
       "      <td>0.000456</td>\n",
       "      <td>0.000169</td>\n",
       "      <td>0.000964</td>\n",
       "      <td>0.000732</td>\n",
       "    </tr>\n",
       "    <tr>\n",
       "      <th>1</th>\n",
       "      <td>0.000984</td>\n",
       "      <td>0.001115</td>\n",
       "      <td>0.002175</td>\n",
       "      <td>0.002811</td>\n",
       "      <td>0.001495</td>\n",
       "    </tr>\n",
       "    <tr>\n",
       "      <th>2</th>\n",
       "      <td>0.000770</td>\n",
       "      <td>0.001008</td>\n",
       "      <td>0.000651</td>\n",
       "      <td>0.000785</td>\n",
       "      <td>0.001353</td>\n",
       "    </tr>\n",
       "    <tr>\n",
       "      <th>3</th>\n",
       "      <td>0.000343</td>\n",
       "      <td>0.000418</td>\n",
       "      <td>0.000374</td>\n",
       "      <td>0.000970</td>\n",
       "      <td>0.000905</td>\n",
       "    </tr>\n",
       "    <tr>\n",
       "      <th>4</th>\n",
       "      <td>0.000755</td>\n",
       "      <td>0.001208</td>\n",
       "      <td>0.002469</td>\n",
       "      <td>0.002522</td>\n",
       "      <td>0.001300</td>\n",
       "    </tr>\n",
       "  </tbody>\n",
       "</table>\n",
       "</div>"
      ],
      "text/plain": [
       "         m1        m2        m3        m4        m5\n",
       "0  0.000445  0.000456  0.000169  0.000964  0.000732\n",
       "1  0.000984  0.001115  0.002175  0.002811  0.001495\n",
       "2  0.000770  0.001008  0.000651  0.000785  0.001353\n",
       "3  0.000343  0.000418  0.000374  0.000970  0.000905\n",
       "4  0.000755  0.001208  0.002469  0.002522  0.001300"
      ]
     },
     "execution_count": 22,
     "metadata": {},
     "output_type": "execute_result"
    }
   ],
   "source": [
    "concat_sub.head()"
   ]
  },
  {
   "cell_type": "code",
   "execution_count": 23,
   "metadata": {},
   "outputs": [
    {
     "data": {
      "image/png": "[encoded data removed]",
      "text/plain": [
       "<Figure size 504x504 with 2 Axes>"
      ]
     },
     "metadata": {
      "needs_background": "light"
     },
     "output_type": "display_data"
    }
   ],
   "source": [
    "# check correlation\n",
    "corr = concat_sub.corr()\n",
    "mask = np.zeros_like(corr, dtype=np.bool)\n",
    "mask[np.triu_indices_from(mask)] = True\n",
    "\n",
    "# Set up the matplotlib figure\n",
    "f, ax = plt.subplots(figsize=(len(cols)+2, len(cols)+2))\n",
    "\n",
    "# Draw the heatmap with the mask and correct aspect ratio\n",
    "_ = sns.heatmap(corr,mask=mask,cmap='prism',center=0, linewidths=1,\n",
    "                annot=True,fmt='.4f', cbar_kws={\"shrink\":.5})"
   ]
  },
  {
   "cell_type": "code",
   "execution_count": 24,
   "metadata": {},
   "outputs": [
    {
     "data": {
      "text/plain": [
       "m3    0.932314\n",
       "m4    0.973947\n",
       "m5    0.976223\n",
       "m1    0.976957\n",
       "m2    0.978094\n",
       "dtype: float64"
      ]
     },
     "execution_count": 24,
     "metadata": {},
     "output_type": "execute_result"
    }
   ],
   "source": [
    "mean_corr = corr.mean()\n",
    "mean_corr = mean_corr.sort_values(ascending=True)\n",
    "mean_corr = mean_corr[:5]\n",
    "mean_corr"
   ]
  },
  {
   "cell_type": "code",
   "execution_count": 25,
   "metadata": {},
   "outputs": [],
   "source": [
    "m_gmean1 = 0\n",
    "for n in mean_corr.index:\n",
    "    m_gmean1 += np.log(concat_sub[n])\n",
    "m_gmean1 = np.exp(m_gmean1/len(mean_corr))"
   ]
  },
  {
   "cell_type": "code",
   "execution_count": 30,
   "metadata": {},
   "outputs": [
    {
     "ename": "ZeroDivisionError",
     "evalue": "division by zero",
     "output_type": "error",
     "traceback": [
      "\u001b[0;31m---------------------------------------------------------------------------\u001b[0m",
      "\u001b[0;31mZeroDivisionError\u001b[0m                         Traceback (most recent call last)",
      "\u001b[0;32m<ipython-input-30-e8a69969601a>\u001b[0m in \u001b[0;36m<module>\u001b[0;34m\u001b[0m\n\u001b[1;32m     11\u001b[0m     \u001b[0ms\u001b[0m \u001b[0;34m+=\u001b[0m \u001b[0mw\u001b[0m\u001b[0;34m\u001b[0m\u001b[0m\n\u001b[1;32m     12\u001b[0m     \u001b[0mrank\u001b[0m\u001b[0;34m[\u001b[0m\u001b[0mmx\u001b[0m\u001b[0;34m]\u001b[0m \u001b[0;34m=\u001b[0m \u001b[0;36m1\u001b[0m\u001b[0;34m\u001b[0m\u001b[0m\n\u001b[0;32m---> 13\u001b[0;31m \u001b[0mm_gmean2\u001b[0m \u001b[0;34m=\u001b[0m \u001b[0mnp\u001b[0m\u001b[0;34m.\u001b[0m\u001b[0mexp\u001b[0m\u001b[0;34m(\u001b[0m\u001b[0mm_gmean2\u001b[0m\u001b[0;34m/\u001b[0m\u001b[0ms\u001b[0m\u001b[0;34m)\u001b[0m\u001b[0;34m\u001b[0m\u001b[0m\n\u001b[0m",
      "\u001b[0;31mZeroDivisionError\u001b[0m: division by zero"
     ]
    }
   ],
   "source": [
    "rank = np.tril(corr.values,-1)\n",
    "rank[rank<0.94] = 1\n",
    "rank\n",
    "m = (rank>0).sum() - (rank>0.97).sum()\n",
    "m\n",
    "m_gmean2, s = 0, 0\n",
    "for n in range(m):\n",
    "    mx = np.unravel_index(rank.argmin(), rank.shape)\n",
    "    w = (m-n)/m\n",
    "    m_gmean2 += w*(np.log(concat_sub.iloc[:,mx[0]])+np.log(concat_sub.iloc[:,mx[1]]))/2\n",
    "    s += w\n",
    "    rank[mx] = 1\n",
    "m_gmean2 = np.exp(m_gmean2/s)"
   ]
  },
  {
   "cell_type": "code",
   "execution_count": null,
   "metadata": {},
   "outputs": [],
   "source": []
  },
  {
   "cell_type": "code",
   "execution_count": 16,
   "metadata": {},
   "outputs": [],
   "source": [
    "sample['isFraud'] = sub3['isFraud'] + sub4['isFraud'] + sub5['isFraud']"
   ]
  },
  {
   "cell_type": "code",
   "execution_count": 17,
   "metadata": {},
   "outputs": [],
   "source": [
    "now = datetime.datetime.now()\n",
    "sample.to_csv(\n",
    "    '/tmp/working/IEEE_Fraud_Detection/data/output/sub_blended_{0:%Y%m%d%H%M}.csv'.format(now),\n",
    "    index=False\n",
    ")"
   ]
  },
  {
   "cell_type": "code",
   "execution_count": null,
   "metadata": {},
   "outputs": [],
   "source": [
    "import matplotlib.pyplot as plt\n",
    "%matplotlib inline"
   ]
  },
  {
   "cell_type": "code",
   "execution_count": null,
   "metadata": {},
   "outputs": [],
   "source": [
    "sub1['isFraud'].plot(kind='hist', bins=200, figsize=(15,5), title='Prediction')\n",
    "plt.xlim((0.5, 1.1))\n",
    "plt.ylim((0, 20000))\n",
    "plt.xticks(np.arange(0.0, 1, 0.02), rotation=90)\n",
    "plt.show();"
   ]
  },
  {
   "cell_type": "code",
   "execution_count": null,
   "metadata": {},
   "outputs": [],
   "source": [
    "sub2['isFraud'].plot(kind='hist', bins=200, figsize=(15,5), title='Prediction')\n",
    "plt.xlim((0.5, 1.1))\n",
    "plt.ylim((0, 20000))\n",
    "plt.xticks(np.arange(0., 1, 0.02), rotation=90)\n",
    "plt.show();"
   ]
  },
  {
   "cell_type": "code",
   "execution_count": null,
   "metadata": {},
   "outputs": [],
   "source": [
    "sub1[sub1['isFraud'] > 0.5]['isFraud'].plot(kind='hist', bins=200, figsize=(15,5), title='Prediction')\n",
    "plt.xticks(np.arange(0, 1, 0.02), rotation=90)\n",
    "plt.show();"
   ]
  },
  {
   "cell_type": "code",
   "execution_count": null,
   "metadata": {},
   "outputs": [],
   "source": [
    "sub3 = pd.concat([sub1, sub2['isFraud']], axis=1)\n",
    "sub3.columns=['TransactionID', 'isFraud', 'isFraud2']\n",
    "sub3.head()"
   ]
  },
  {
   "cell_type": "code",
   "execution_count": null,
   "metadata": {},
   "outputs": [],
   "source": [
    "sub3.loc[sub3['isFraud2'] > 0.8, 'isFraud'] = sub3['isFraud2']"
   ]
  },
  {
   "cell_type": "code",
   "execution_count": null,
   "metadata": {},
   "outputs": [],
   "source": [
    "sub3['isFraud'].plot(kind='hist', bins=50, figsize=(15,5), title='Prediction')\n",
    "plt.xticks(np.arange(0, 1, 0.05))\n",
    "plt.show();"
   ]
  },
  {
   "cell_type": "code",
   "execution_count": null,
   "metadata": {},
   "outputs": [],
   "source": [
    "sub4 = sub3[['TransactionID', 'isFraud']]\n",
    "sub4.head()"
   ]
  },
  {
   "cell_type": "code",
   "execution_count": null,
   "metadata": {},
   "outputs": [],
   "source": [
    "now = datetime.datetime.now()\n",
    "\n",
    "sub4.to_csv(\n",
    "    '/tmp/working/IEEE_Fraud_Detection/data/output/sub_blended_{0:%Y%m%d%H%M}.csv'.format(now),\n",
    "    index=False\n",
    ")"
   ]
  },
  {
   "cell_type": "code",
   "execution_count": null,
   "metadata": {},
   "outputs": [],
   "source": [
    "sub4['isFraud'].plot(kind='hist', bins=200, figsize=(15,5), title='Prediction')\n",
    "plt.xticks(np.arange(0, 1, 0.02), rotation=90)\n",
    "plt.show();"
   ]
  },
  {
   "cell_type": "code",
   "execution_count": null,
   "metadata": {},
   "outputs": [],
   "source": []
  }
 ],
 "metadata": {
  "kernelspec": {
   "display_name": "Python 3",
   "language": "python",
   "name": "python3"
  },
  "language_info": {
   "codemirror_mode": {
    "name": "ipython",
    "version": 3
   },
   "file_extension": ".py",
   "mimetype": "text/x-python",
   "name": "python",
   "nbconvert_exporter": "python",
   "pygments_lexer": "ipython3",
   "version": "3.6.6"
  }
 },
 "nbformat": 4,
 "nbformat_minor": 4
}
