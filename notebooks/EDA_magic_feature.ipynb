{
 "cells": [
  {
   "cell_type": "markdown",
   "metadata": {},
   "source": [
    "# Look into Magic Feature\n",
    "reference: https://www.kaggle.com/cdeotte/xgb-fraud-with-magic-0-9600"
   ]
  },
  {
   "cell_type": "code",
   "execution_count": 12,
   "metadata": {},
   "outputs": [],
   "source": [
    "import sys\n",
    "sys.path.append('/tmp/working/IEEE_Fraud_Detection/')\n",
    "\n",
    "import pandas as pd\n",
    "import numpy as np\n",
    "import matplotlib.pyplot as plt\n",
    "import seaborn as sns\n",
    "from functions.functions import load_datasets"
   ]
  },
  {
   "cell_type": "code",
   "execution_count": 5,
   "metadata": {},
   "outputs": [],
   "source": [
    "# dataのロード\n",
    "train, test = load_datasets([\"transaction_identity_merged\"])"
   ]
  },
  {
   "cell_type": "markdown",
   "metadata": {},
   "source": [
    "\n",
    "### カラムDはtime_deltaである。  \n",
    "D1-D15: timedelta, such as days between previous transaction, etc."
   ]
  },
  {
   "cell_type": "code",
   "execution_count": 11,
   "metadata": {},
   "outputs": [
    {
     "data": {
      "text/html": [
       "<div>\n",
       "<style scoped>\n",
       "    .dataframe tbody tr th:only-of-type {\n",
       "        vertical-align: middle;\n",
       "    }\n",
       "\n",
       "    .dataframe tbody tr th {\n",
       "        vertical-align: top;\n",
       "    }\n",
       "\n",
       "    .dataframe thead th {\n",
       "        text-align: right;\n",
       "    }\n",
       "</style>\n",
       "<table border=\"1\" class=\"dataframe\">\n",
       "  <thead>\n",
       "    <tr style=\"text-align: right;\">\n",
       "      <th></th>\n",
       "      <th>D1</th>\n",
       "      <th>D2</th>\n",
       "      <th>D3</th>\n",
       "      <th>D4</th>\n",
       "      <th>D5</th>\n",
       "      <th>D6</th>\n",
       "      <th>D7</th>\n",
       "      <th>D8</th>\n",
       "      <th>D9</th>\n",
       "      <th>D10</th>\n",
       "      <th>D11</th>\n",
       "      <th>D12</th>\n",
       "      <th>D13</th>\n",
       "      <th>D14</th>\n",
       "      <th>D15</th>\n",
       "    </tr>\n",
       "  </thead>\n",
       "  <tbody>\n",
       "    <tr>\n",
       "      <th>0</th>\n",
       "      <td>14.0</td>\n",
       "      <td>NaN</td>\n",
       "      <td>13.0</td>\n",
       "      <td>NaN</td>\n",
       "      <td>NaN</td>\n",
       "      <td>NaN</td>\n",
       "      <td>NaN</td>\n",
       "      <td>NaN</td>\n",
       "      <td>NaN</td>\n",
       "      <td>13.0</td>\n",
       "      <td>13.0</td>\n",
       "      <td>NaN</td>\n",
       "      <td>NaN</td>\n",
       "      <td>NaN</td>\n",
       "      <td>0.0</td>\n",
       "    </tr>\n",
       "    <tr>\n",
       "      <th>1</th>\n",
       "      <td>0.0</td>\n",
       "      <td>NaN</td>\n",
       "      <td>NaN</td>\n",
       "      <td>0.0</td>\n",
       "      <td>NaN</td>\n",
       "      <td>NaN</td>\n",
       "      <td>NaN</td>\n",
       "      <td>NaN</td>\n",
       "      <td>NaN</td>\n",
       "      <td>0.0</td>\n",
       "      <td>NaN</td>\n",
       "      <td>NaN</td>\n",
       "      <td>NaN</td>\n",
       "      <td>NaN</td>\n",
       "      <td>0.0</td>\n",
       "    </tr>\n",
       "    <tr>\n",
       "      <th>2</th>\n",
       "      <td>0.0</td>\n",
       "      <td>NaN</td>\n",
       "      <td>NaN</td>\n",
       "      <td>0.0</td>\n",
       "      <td>NaN</td>\n",
       "      <td>NaN</td>\n",
       "      <td>NaN</td>\n",
       "      <td>NaN</td>\n",
       "      <td>NaN</td>\n",
       "      <td>0.0</td>\n",
       "      <td>315.0</td>\n",
       "      <td>NaN</td>\n",
       "      <td>NaN</td>\n",
       "      <td>NaN</td>\n",
       "      <td>315.0</td>\n",
       "    </tr>\n",
       "    <tr>\n",
       "      <th>3</th>\n",
       "      <td>112.0</td>\n",
       "      <td>112.0</td>\n",
       "      <td>0.0</td>\n",
       "      <td>94.0</td>\n",
       "      <td>0.0</td>\n",
       "      <td>NaN</td>\n",
       "      <td>NaN</td>\n",
       "      <td>NaN</td>\n",
       "      <td>NaN</td>\n",
       "      <td>84.0</td>\n",
       "      <td>NaN</td>\n",
       "      <td>NaN</td>\n",
       "      <td>NaN</td>\n",
       "      <td>NaN</td>\n",
       "      <td>111.0</td>\n",
       "    </tr>\n",
       "    <tr>\n",
       "      <th>4</th>\n",
       "      <td>0.0</td>\n",
       "      <td>NaN</td>\n",
       "      <td>NaN</td>\n",
       "      <td>NaN</td>\n",
       "      <td>NaN</td>\n",
       "      <td>NaN</td>\n",
       "      <td>NaN</td>\n",
       "      <td>NaN</td>\n",
       "      <td>NaN</td>\n",
       "      <td>NaN</td>\n",
       "      <td>NaN</td>\n",
       "      <td>NaN</td>\n",
       "      <td>NaN</td>\n",
       "      <td>NaN</td>\n",
       "      <td>NaN</td>\n",
       "    </tr>\n",
       "    <tr>\n",
       "      <th>5</th>\n",
       "      <td>0.0</td>\n",
       "      <td>NaN</td>\n",
       "      <td>NaN</td>\n",
       "      <td>0.0</td>\n",
       "      <td>NaN</td>\n",
       "      <td>NaN</td>\n",
       "      <td>NaN</td>\n",
       "      <td>NaN</td>\n",
       "      <td>NaN</td>\n",
       "      <td>0.0</td>\n",
       "      <td>0.0</td>\n",
       "      <td>NaN</td>\n",
       "      <td>NaN</td>\n",
       "      <td>NaN</td>\n",
       "      <td>0.0</td>\n",
       "    </tr>\n",
       "    <tr>\n",
       "      <th>6</th>\n",
       "      <td>0.0</td>\n",
       "      <td>NaN</td>\n",
       "      <td>NaN</td>\n",
       "      <td>0.0</td>\n",
       "      <td>NaN</td>\n",
       "      <td>NaN</td>\n",
       "      <td>NaN</td>\n",
       "      <td>NaN</td>\n",
       "      <td>NaN</td>\n",
       "      <td>0.0</td>\n",
       "      <td>0.0</td>\n",
       "      <td>NaN</td>\n",
       "      <td>NaN</td>\n",
       "      <td>NaN</td>\n",
       "      <td>0.0</td>\n",
       "    </tr>\n",
       "    <tr>\n",
       "      <th>7</th>\n",
       "      <td>0.0</td>\n",
       "      <td>NaN</td>\n",
       "      <td>NaN</td>\n",
       "      <td>0.0</td>\n",
       "      <td>NaN</td>\n",
       "      <td>NaN</td>\n",
       "      <td>NaN</td>\n",
       "      <td>NaN</td>\n",
       "      <td>NaN</td>\n",
       "      <td>0.0</td>\n",
       "      <td>NaN</td>\n",
       "      <td>NaN</td>\n",
       "      <td>NaN</td>\n",
       "      <td>NaN</td>\n",
       "      <td>0.0</td>\n",
       "    </tr>\n",
       "    <tr>\n",
       "      <th>8</th>\n",
       "      <td>0.0</td>\n",
       "      <td>NaN</td>\n",
       "      <td>NaN</td>\n",
       "      <td>NaN</td>\n",
       "      <td>NaN</td>\n",
       "      <td>NaN</td>\n",
       "      <td>NaN</td>\n",
       "      <td>NaN</td>\n",
       "      <td>NaN</td>\n",
       "      <td>NaN</td>\n",
       "      <td>NaN</td>\n",
       "      <td>NaN</td>\n",
       "      <td>NaN</td>\n",
       "      <td>NaN</td>\n",
       "      <td>NaN</td>\n",
       "    </tr>\n",
       "    <tr>\n",
       "      <th>9</th>\n",
       "      <td>61.0</td>\n",
       "      <td>61.0</td>\n",
       "      <td>30.0</td>\n",
       "      <td>318.0</td>\n",
       "      <td>30.0</td>\n",
       "      <td>NaN</td>\n",
       "      <td>NaN</td>\n",
       "      <td>NaN</td>\n",
       "      <td>NaN</td>\n",
       "      <td>40.0</td>\n",
       "      <td>302.0</td>\n",
       "      <td>NaN</td>\n",
       "      <td>NaN</td>\n",
       "      <td>NaN</td>\n",
       "      <td>318.0</td>\n",
       "    </tr>\n",
       "  </tbody>\n",
       "</table>\n",
       "</div>"
      ],
      "text/plain": [
       "      D1     D2    D3     D4    D5  D6  ...   D10    D11  D12  D13  D14    D15\n",
       "0   14.0    NaN  13.0    NaN   NaN NaN  ...  13.0   13.0  NaN  NaN  NaN    0.0\n",
       "1    0.0    NaN   NaN    0.0   NaN NaN  ...   0.0    NaN  NaN  NaN  NaN    0.0\n",
       "2    0.0    NaN   NaN    0.0   NaN NaN  ...   0.0  315.0  NaN  NaN  NaN  315.0\n",
       "3  112.0  112.0   0.0   94.0   0.0 NaN  ...  84.0    NaN  NaN  NaN  NaN  111.0\n",
       "4    0.0    NaN   NaN    NaN   NaN NaN  ...   NaN    NaN  NaN  NaN  NaN    NaN\n",
       "5    0.0    NaN   NaN    0.0   NaN NaN  ...   0.0    0.0  NaN  NaN  NaN    0.0\n",
       "6    0.0    NaN   NaN    0.0   NaN NaN  ...   0.0    0.0  NaN  NaN  NaN    0.0\n",
       "7    0.0    NaN   NaN    0.0   NaN NaN  ...   0.0    NaN  NaN  NaN  NaN    0.0\n",
       "8    0.0    NaN   NaN    NaN   NaN NaN  ...   NaN    NaN  NaN  NaN  NaN    NaN\n",
       "9   61.0   61.0  30.0  318.0  30.0 NaN  ...  40.0  302.0  NaN  NaN  NaN  318.0\n",
       "\n",
       "[10 rows x 15 columns]"
      ]
     },
     "execution_count": 11,
     "metadata": {},
     "output_type": "execute_result"
    }
   ],
   "source": [
    "#D columns\n",
    "d_cols = ['D' + str(i+1) for i in range(15)]\n",
    "\n",
    "train[d_cols].head(10)"
   ]
  },
  {
   "cell_type": "code",
   "execution_count": 14,
   "metadata": {},
   "outputs": [
    {
     "data": {
      "image/png": "[encoded data removed]",
      "text/plain": [
       "<Figure size 1080x360 with 1 Axes>"
      ]
     },
     "metadata": {
      "needs_background": "light"
     },
     "output_type": "display_data"
    }
   ],
   "source": [
    "# plot original D15\n",
    "plt.figure(figsize=(15, 5))\n",
    "plt.scatter(train['TransactionDT'], train['D15'])\n",
    "plt.title('Original D15')\n",
    "plt.xlabel('Time (sec)')\n",
    "plt.ylabel('D15');"
   ]
  },
  {
   "cell_type": "code",
   "execution_count": 16,
   "metadata": {},
   "outputs": [
    {
     "name": "stdout",
     "output_type": "stream",
     "text": [
      "D1 n unique: 641\n",
      "--------------------------------------------------\n",
      "D2 n unique: 641\n",
      "--------------------------------------------------\n",
      "D3 n unique: 649\n",
      "--------------------------------------------------\n",
      "D4 n unique: 808\n",
      "--------------------------------------------------\n",
      "D5 n unique: 688\n",
      "--------------------------------------------------\n",
      "D6 n unique: 829\n",
      "--------------------------------------------------\n",
      "D7 n unique: 597\n",
      "--------------------------------------------------\n",
      "D8 n unique: 12353\n",
      "--------------------------------------------------\n",
      "D9 n unique: 24\n",
      "--------------------------------------------------\n",
      "D10 n unique: 818\n",
      "--------------------------------------------------\n",
      "D11 n unique: 676\n",
      "--------------------------------------------------\n",
      "D12 n unique: 635\n",
      "--------------------------------------------------\n",
      "D13 n unique: 577\n",
      "--------------------------------------------------\n",
      "D14 n unique: 802\n",
      "--------------------------------------------------\n",
      "D15 n unique: 859\n",
      "--------------------------------------------------\n"
     ]
    }
   ],
   "source": [
    "# D columnsのunique check\n",
    "for i in range(1, 16):\n",
    "    print('D'+str(i) + ' n unique:', train['D'+str(i)].nunique())\n",
    "    print('-'*50)"
   ]
  },
  {
   "cell_type": "code",
   "execution_count": 17,
   "metadata": {},
   "outputs": [
    {
     "data": {
      "text/plain": [
       "array([       nan, 0.        , 0.041666  , 0.083333  , 0.125     ,\n",
       "       0.166666  , 0.208333  , 0.25      , 0.291666  , 0.33333299,\n",
       "       0.416666  , 0.45833299, 0.5       , 0.54166597, 0.58333302,\n",
       "       0.625     , 0.66666597, 0.70833302, 0.75      , 0.79166597,\n",
       "       0.83333302, 0.875     , 0.91666597, 0.95833302, 0.375     ])"
      ]
     },
     "execution_count": 17,
     "metadata": {},
     "output_type": "execute_result"
    }
   ],
   "source": [
    "train['D9'].unique()"
   ]
  },
  {
   "cell_type": "code",
   "execution_count": 18,
   "metadata": {},
   "outputs": [],
   "source": [
    "# Normalize D columns\n",
    "for i in range(1, 16):\n",
    "    if i in [1, 2, 3, 5, 9]: continue   # continue以下はスキップして次の繰り返しへ\n",
    "    train['D' + str(i)] = train['D'+str(i)] - train['TransactionDT'] / np.float32(24*60*60)\n",
    "    test['D' + str(i)] = test['D'+str(i)] - test['TransactionDT'] / np.float32(24*60*60)"
   ]
  },
  {
   "cell_type": "code",
   "execution_count": 22,
   "metadata": {},
   "outputs": [
    {
     "data": {
      "image/png": "[encoded data removed]",
      "text/plain": [
       "<Figure size 1080x360 with 1 Axes>"
      ]
     },
     "metadata": {
      "needs_background": "light"
     },
     "output_type": "display_data"
    }
   ],
   "source": [
    "# plot transformed D\n",
    "plt.figure(figsize=(15, 5))\n",
    "plt.scatter(train['TransactionDT'], train['D15'])\n",
    "plt.title('Transformed D15')\n",
    "plt.xlabel('time (sec)')\n",
    "plt.ylabel('D15n');"
   ]
  },
  {
   "cell_type": "markdown",
   "metadata": {},
   "source": [
    "### Encoding Functions"
   ]
  },
  {
   "cell_type": "code",
   "execution_count": 63,
   "metadata": {},
   "outputs": [
    {
     "ename": "SyntaxError",
     "evalue": "invalid syntax (<ipython-input-63-824c4754fb62>, line 59)",
     "output_type": "error",
     "traceback": [
      "\u001b[0;36m  File \u001b[0;32m\"<ipython-input-63-824c4754fb62>\"\u001b[0;36m, line \u001b[0;32m59\u001b[0m\n\u001b[0;31m    def en\u001b[0m\n\u001b[0m          ^\u001b[0m\n\u001b[0;31mSyntaxError\u001b[0m\u001b[0;31m:\u001b[0m invalid syntax\n"
     ]
    }
   ],
   "source": [
    "# Frequency Encode Together\n",
    "def endoce_FE(df1, df2, cols):\n",
    "    for col in cols:\n",
    "        df = pd.concat([df1[col], df2[col]])\n",
    "        vc = df.value_counts(dropna=True, normalize=True).to_dict()   #normalize=Trueで相対的な頻度にしている。\n",
    "        vc[-1] = -1   # この操作は何？？\n",
    "        nm = col + '_FE'\n",
    "        df1[nm] = df1[col].map(vc)\n",
    "        df1[nm] = df1[nm].astype('float32')\n",
    "        df2[nm] = df2[col].map(vc)\n",
    "        df2[nm] = df2[nm].astype('float32')\n",
    "        print(nm, ', ', end='')\n",
    "\n",
    "        \n",
    "# Label Encode\n",
    "def encode_LE(col, train, test, verbose=True):\n",
    "    df_comb = pd.concat([train[col], test[col]])\n",
    "    df_comb, _ = df_comb.factorize(sort=True)   #factorize: カテゴリカル変数に。Noneは-1\n",
    "    nm = col\n",
    "    if df_comb.max() > 32000:\n",
    "        train[nm] = df_comb[:len(train)].astype('int32')\n",
    "        test[nm] = df_comb[:len(train):].astype('int32')\n",
    "    else:\n",
    "        train[nm] = df_comb[:len(train)].astype('int16')\n",
    "        test[nm] = df_comb[len(train):].astype('int16')\n",
    "    \n",
    "    del df_comb; x=gc.collect()\n",
    "    if verbose:\n",
    "        print(nm, ', ', end='')   # end=''で改行なし\n",
    "\n",
    "\n",
    "# Group Aggregation Mean and Std\n",
    "def encode_AG(main_columns, uids, aggregations=['mean'], train_df=X_train, testf_df=X_test,\n",
    "             fillna=True, usena=False):\n",
    "    for main_column in main_columns:\n",
    "        for col in uids:\n",
    "            for agg_type in aggregations:\n",
    "                new_col_name = main_column + '_' + col + '_' + agg_type\n",
    "                temp_df = pd.concat([train_df[[col, main_column]], test_df[[col, main_column]]])\n",
    "                if usena:\n",
    "                    temp_df.loc[temp_df[main_column]==-1, main_column] = np.nan\n",
    "                temp_df = temp_df.groupby([col])[main_column].agg([agg_type]).reset_index().rename(columns={agg_type: new_col_name})\n",
    "                # groupby([col])[main_column] でpd.\n",
    "                # reset_index()はdrop=Trueを指定しなければ旧インデックスがデータ列に移動する\n",
    "                # agg(['mean'])のように、aggregateする集計方法を[]でくくってやると、カラム名になる（くくらなければ変化なし）\n",
    "                temp_df.index = list(temp_df[col])\n",
    "                temp_df = temp_df[new_col_name].to_dict() #keyがindex, valueが該当行の値\n",
    "                train_df[new_col_name] = train_df[col].map(temp_df).astype('float32')\n",
    "                test_df[new_col_name] = test_df[col].map(temp_df).astype('float32')\n",
    "                \n",
    "                if fillna:\n",
    "                    train_df[new_col_name].fillna(-1,inplace=True)\n",
    "                    test_df[new_col_name].fillna(-1,inplace=True)\n",
    "                \n",
    "                print(\"'\"+new_col_name+\"'\",', ',end='')\n",
    "\n",
    "                \n",
    "# Combine Features\n",
    "def en"
   ]
  },
  {
   "cell_type": "code",
   "execution_count": null,
   "metadata": {},
   "outputs": [],
   "source": []
  }
 ],
 "metadata": {
  "kernelspec": {
   "display_name": "Python 3",
   "language": "python",
   "name": "python3"
  },
  "language_info": {
   "codemirror_mode": {
    "name": "ipython",
    "version": 3
   },
   "file_extension": ".py",
   "mimetype": "text/x-python",
   "name": "python",
   "nbconvert_exporter": "python",
   "pygments_lexer": "ipython3",
   "version": "3.6.6"
  }
 },
 "nbformat": 4,
 "nbformat_minor": 4
}
